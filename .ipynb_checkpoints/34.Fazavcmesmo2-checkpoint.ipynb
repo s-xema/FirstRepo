{
 "cells": [
  {
   "cell_type": "code",
   "execution_count": null,
   "id": "05b10119-f85c-4af0-a6cd-38467528ed51",
   "metadata": {},
   "outputs": [],
   "source": [
    "# Faça você mesmo Random Forest sobre soybean.csv\n",
    "# 34. Neural Network and deep learning"
   ]
  },
  {
   "cell_type": "code",
   "execution_count": 7,
   "id": "0e79c9ea-369e-49e3-9397-63944487b948",
   "metadata": {},
   "outputs": [],
   "source": [
    "# Importação das bibliotecas\n",
    "import os\n",
    "import pandas as pd\n",
    "from sklearn.model_selection import train_test_split\n",
    "from sklearn.preprocessing import LabelEncoder\n",
    "from sklearn.metrics import confusion_matrix, accuracy_score\n",
    "from sklearn.ensemble import RandomForestClassifier"
   ]
  },
  {
   "cell_type": "code",
   "execution_count": 12,
   "id": "63a9280e-fa7c-49df-8fd2-c8fa273f0581",
   "metadata": {},
   "outputs": [
    {
     "data": {
      "text/html": [
       "<div>\n",
       "<style scoped>\n",
       "    .dataframe tbody tr th:only-of-type {\n",
       "        vertical-align: middle;\n",
       "    }\n",
       "\n",
       "    .dataframe tbody tr th {\n",
       "        vertical-align: top;\n",
       "    }\n",
       "\n",
       "    .dataframe thead th {\n",
       "        text-align: right;\n",
       "    }\n",
       "</style>\n",
       "<table border=\"1\" class=\"dataframe\">\n",
       "  <thead>\n",
       "    <tr style=\"text-align: right;\">\n",
       "      <th></th>\n",
       "      <th>date</th>\n",
       "      <th>plant-stand</th>\n",
       "      <th>precip</th>\n",
       "      <th>temp</th>\n",
       "      <th>hail</th>\n",
       "      <th>crop-hist</th>\n",
       "      <th>area-damaged</th>\n",
       "      <th>severity</th>\n",
       "      <th>seed-tmt</th>\n",
       "      <th>germination</th>\n",
       "      <th>...</th>\n",
       "      <th>sclerotia</th>\n",
       "      <th>fruit-pods</th>\n",
       "      <th>fruit-spots</th>\n",
       "      <th>seed</th>\n",
       "      <th>mold-growth</th>\n",
       "      <th>seed-discolor</th>\n",
       "      <th>seed-size</th>\n",
       "      <th>shriveling</th>\n",
       "      <th>roots</th>\n",
       "      <th>class</th>\n",
       "    </tr>\n",
       "  </thead>\n",
       "  <tbody>\n",
       "    <tr>\n",
       "      <th>0</th>\n",
       "      <td>october</td>\n",
       "      <td>normal</td>\n",
       "      <td>gt-norm</td>\n",
       "      <td>norm</td>\n",
       "      <td>yes</td>\n",
       "      <td>same-lst-yr</td>\n",
       "      <td>low-areas</td>\n",
       "      <td>pot-severe</td>\n",
       "      <td>none</td>\n",
       "      <td>90-100</td>\n",
       "      <td>...</td>\n",
       "      <td>absent</td>\n",
       "      <td>norm</td>\n",
       "      <td>dna</td>\n",
       "      <td>norm</td>\n",
       "      <td>absent</td>\n",
       "      <td>absent</td>\n",
       "      <td>norm</td>\n",
       "      <td>absent</td>\n",
       "      <td>norm</td>\n",
       "      <td>diaporthe-stem-canker</td>\n",
       "    </tr>\n",
       "  </tbody>\n",
       "</table>\n",
       "<p>1 rows × 36 columns</p>\n",
       "</div>"
      ],
      "text/plain": [
       "      date plant-stand   precip  temp hail    crop-hist area-damaged  \\\n",
       "0  october      normal  gt-norm  norm  yes  same-lst-yr    low-areas   \n",
       "\n",
       "     severity seed-tmt germination  ... sclerotia fruit-pods fruit-spots  \\\n",
       "0  pot-severe     none      90-100  ...    absent       norm         dna   \n",
       "\n",
       "   seed mold-growth seed-discolor seed-size shriveling roots  \\\n",
       "0  norm      absent        absent      norm     absent  norm   \n",
       "\n",
       "                   class  \n",
       "0  diaporthe-stem-canker  \n",
       "\n",
       "[1 rows x 36 columns]"
      ]
     },
     "execution_count": 12,
     "metadata": {},
     "output_type": "execute_result"
    }
   ],
   "source": [
    "soja = pd.read_csv ('soybean.csv')\n",
    "soja.head(1)\n"
   ]
  },
  {
   "cell_type": "code",
   "execution_count": 15,
   "id": "4047cb9f-4d3f-41ed-b015-3221c338c2d1",
   "metadata": {},
   "outputs": [],
   "source": [
    "X = soja.iloc[:,0:35].values\n",
    "y = soja.iloc[:,35].values\n"
   ]
  },
  {
   "cell_type": "code",
   "execution_count": 21,
   "id": "813b19f0-1382-481a-b7bf-850603489433",
   "metadata": {},
   "outputs": [],
   "source": [
    "le = LabelEncoder()\n",
    "\n",
    "for i in range (35):\n",
    "    X[:,i] = le.fit_transform(X[:,i])\n",
    "y = le.fit_transform(y)\n"
   ]
  },
  {
   "cell_type": "code",
   "execution_count": 25,
   "id": "7b10c8b3-27ab-43f1-9191-ef1f6d607398",
   "metadata": {},
   "outputs": [],
   "source": [
    "Xtrain, Xtest, ytrain, ytest = train_test_split(X, y, test_size=0.3, random_state=0)\n",
    "# ytest"
   ]
  },
  {
   "cell_type": "code",
   "execution_count": 29,
   "id": "96c920f9-2d31-4ee9-98a3-756fcffef6a0",
   "metadata": {},
   "outputs": [
    {
     "data": {
      "text/plain": [
       "RandomForestClassifier()"
      ]
     },
     "execution_count": 29,
     "metadata": {},
     "output_type": "execute_result"
    }
   ],
   "source": [
    "forest_model = RandomForestClassifier (n_estimators=100)\n",
    "forest_model.fit(Xtrain,ytrain)"
   ]
  },
  {
   "cell_type": "code",
   "execution_count": 27,
   "id": "05781123-0d8c-4593-baa3-22c3ec9c2cfc",
   "metadata": {},
   "outputs": [
    {
     "data": {
      "text/plain": [
       "[DecisionTreeClassifier(max_features='auto', random_state=1195125319),\n",
       " DecisionTreeClassifier(max_features='auto', random_state=1854492032),\n",
       " DecisionTreeClassifier(max_features='auto', random_state=1248609742),\n",
       " DecisionTreeClassifier(max_features='auto', random_state=1592845884),\n",
       " DecisionTreeClassifier(max_features='auto', random_state=1623155334),\n",
       " DecisionTreeClassifier(max_features='auto', random_state=716457429),\n",
       " DecisionTreeClassifier(max_features='auto', random_state=116900076),\n",
       " DecisionTreeClassifier(max_features='auto', random_state=520655863),\n",
       " DecisionTreeClassifier(max_features='auto', random_state=1794576947),\n",
       " DecisionTreeClassifier(max_features='auto', random_state=273299274),\n",
       " DecisionTreeClassifier(max_features='auto', random_state=1001421779),\n",
       " DecisionTreeClassifier(max_features='auto', random_state=979089684),\n",
       " DecisionTreeClassifier(max_features='auto', random_state=816178202),\n",
       " DecisionTreeClassifier(max_features='auto', random_state=2120171479),\n",
       " DecisionTreeClassifier(max_features='auto', random_state=666872888),\n",
       " DecisionTreeClassifier(max_features='auto', random_state=1358704249),\n",
       " DecisionTreeClassifier(max_features='auto', random_state=1292401293),\n",
       " DecisionTreeClassifier(max_features='auto', random_state=293826660),\n",
       " DecisionTreeClassifier(max_features='auto', random_state=1968877862),\n",
       " DecisionTreeClassifier(max_features='auto', random_state=1337046578),\n",
       " DecisionTreeClassifier(max_features='auto', random_state=703448238),\n",
       " DecisionTreeClassifier(max_features='auto', random_state=638376703),\n",
       " DecisionTreeClassifier(max_features='auto', random_state=1616873642),\n",
       " DecisionTreeClassifier(max_features='auto', random_state=1326453553),\n",
       " DecisionTreeClassifier(max_features='auto', random_state=187583462),\n",
       " DecisionTreeClassifier(max_features='auto', random_state=200182792),\n",
       " DecisionTreeClassifier(max_features='auto', random_state=215782313),\n",
       " DecisionTreeClassifier(max_features='auto', random_state=81995591),\n",
       " DecisionTreeClassifier(max_features='auto', random_state=327432408),\n",
       " DecisionTreeClassifier(max_features='auto', random_state=1305774560),\n",
       " DecisionTreeClassifier(max_features='auto', random_state=32897080),\n",
       " DecisionTreeClassifier(max_features='auto', random_state=62671604),\n",
       " DecisionTreeClassifier(max_features='auto', random_state=1392664181),\n",
       " DecisionTreeClassifier(max_features='auto', random_state=1497751996),\n",
       " DecisionTreeClassifier(max_features='auto', random_state=747118301),\n",
       " DecisionTreeClassifier(max_features='auto', random_state=1603603695),\n",
       " DecisionTreeClassifier(max_features='auto', random_state=1147176966),\n",
       " DecisionTreeClassifier(max_features='auto', random_state=1814165606),\n",
       " DecisionTreeClassifier(max_features='auto', random_state=792518623),\n",
       " DecisionTreeClassifier(max_features='auto', random_state=1620638574),\n",
       " DecisionTreeClassifier(max_features='auto', random_state=489101277),\n",
       " DecisionTreeClassifier(max_features='auto', random_state=1521746999),\n",
       " DecisionTreeClassifier(max_features='auto', random_state=1867402728),\n",
       " DecisionTreeClassifier(max_features='auto', random_state=611290348),\n",
       " DecisionTreeClassifier(max_features='auto', random_state=171510754),\n",
       " DecisionTreeClassifier(max_features='auto', random_state=1856480155),\n",
       " DecisionTreeClassifier(max_features='auto', random_state=966067988),\n",
       " DecisionTreeClassifier(max_features='auto', random_state=2062812400),\n",
       " DecisionTreeClassifier(max_features='auto', random_state=634452773),\n",
       " DecisionTreeClassifier(max_features='auto', random_state=307129639),\n",
       " DecisionTreeClassifier(max_features='auto', random_state=1689428918),\n",
       " DecisionTreeClassifier(max_features='auto', random_state=118834920),\n",
       " DecisionTreeClassifier(max_features='auto', random_state=1749639670),\n",
       " DecisionTreeClassifier(max_features='auto', random_state=1786954736),\n",
       " DecisionTreeClassifier(max_features='auto', random_state=1285787323),\n",
       " DecisionTreeClassifier(max_features='auto', random_state=577329515),\n",
       " DecisionTreeClassifier(max_features='auto', random_state=1191110912),\n",
       " DecisionTreeClassifier(max_features='auto', random_state=1410181454),\n",
       " DecisionTreeClassifier(max_features='auto', random_state=1822864425),\n",
       " DecisionTreeClassifier(max_features='auto', random_state=1825596837),\n",
       " DecisionTreeClassifier(max_features='auto', random_state=1175682133),\n",
       " DecisionTreeClassifier(max_features='auto', random_state=448903279),\n",
       " DecisionTreeClassifier(max_features='auto', random_state=742579545),\n",
       " DecisionTreeClassifier(max_features='auto', random_state=173487096),\n",
       " DecisionTreeClassifier(max_features='auto', random_state=708554044),\n",
       " DecisionTreeClassifier(max_features='auto', random_state=1797843673),\n",
       " DecisionTreeClassifier(max_features='auto', random_state=13530768),\n",
       " DecisionTreeClassifier(max_features='auto', random_state=506291958),\n",
       " DecisionTreeClassifier(max_features='auto', random_state=417136597),\n",
       " DecisionTreeClassifier(max_features='auto', random_state=1072372655),\n",
       " DecisionTreeClassifier(max_features='auto', random_state=404660535),\n",
       " DecisionTreeClassifier(max_features='auto', random_state=1193962619),\n",
       " DecisionTreeClassifier(max_features='auto', random_state=2016465792),\n",
       " DecisionTreeClassifier(max_features='auto', random_state=288022448),\n",
       " DecisionTreeClassifier(max_features='auto', random_state=454987535),\n",
       " DecisionTreeClassifier(max_features='auto', random_state=1988313501),\n",
       " DecisionTreeClassifier(max_features='auto', random_state=478994861),\n",
       " DecisionTreeClassifier(max_features='auto', random_state=439066493),\n",
       " DecisionTreeClassifier(max_features='auto', random_state=1593160728),\n",
       " DecisionTreeClassifier(max_features='auto', random_state=2064625588),\n",
       " DecisionTreeClassifier(max_features='auto', random_state=2094805641),\n",
       " DecisionTreeClassifier(max_features='auto', random_state=1280118126),\n",
       " DecisionTreeClassifier(max_features='auto', random_state=1528565850),\n",
       " DecisionTreeClassifier(max_features='auto', random_state=2030462778),\n",
       " DecisionTreeClassifier(max_features='auto', random_state=2138862449),\n",
       " DecisionTreeClassifier(max_features='auto', random_state=1103231855),\n",
       " DecisionTreeClassifier(max_features='auto', random_state=796943933),\n",
       " DecisionTreeClassifier(max_features='auto', random_state=786029056),\n",
       " DecisionTreeClassifier(max_features='auto', random_state=343511018),\n",
       " DecisionTreeClassifier(max_features='auto', random_state=1727184844),\n",
       " DecisionTreeClassifier(max_features='auto', random_state=466304220),\n",
       " DecisionTreeClassifier(max_features='auto', random_state=1155696736),\n",
       " DecisionTreeClassifier(max_features='auto', random_state=920288707),\n",
       " DecisionTreeClassifier(max_features='auto', random_state=366626050),\n",
       " DecisionTreeClassifier(max_features='auto', random_state=576781322),\n",
       " DecisionTreeClassifier(max_features='auto', random_state=937403829),\n",
       " DecisionTreeClassifier(max_features='auto', random_state=1530045529),\n",
       " DecisionTreeClassifier(max_features='auto', random_state=1956644057),\n",
       " DecisionTreeClassifier(max_features='auto', random_state=1354134510),\n",
       " DecisionTreeClassifier(max_features='auto', random_state=80507435)]"
      ]
     },
     "execution_count": 27,
     "metadata": {},
     "output_type": "execute_result"
    }
   ],
   "source": [
    "forest_model.estimators_"
   ]
  },
  {
   "cell_type": "code",
   "execution_count": 30,
   "id": "b79a0618-0d90-41ff-9ad9-c3edf51f597f",
   "metadata": {},
   "outputs": [
    {
     "data": {
      "text/plain": [
       "0.9560975609756097"
      ]
     },
     "execution_count": 30,
     "metadata": {},
     "output_type": "execute_result"
    }
   ],
   "source": [
    "predict = forest_model.predict(Xtest)\n",
    "conf_matrix = confusion_matrix(ytest, predict)\n",
    "acurrancy = accuracy_score(ytest, predict)\n",
    "acurrancy"
   ]
  }
 ],
 "metadata": {
  "kernelspec": {
   "display_name": "Python 3 (ipykernel)",
   "language": "python",
   "name": "python3"
  },
  "language_info": {
   "codemirror_mode": {
    "name": "ipython",
    "version": 3
   },
   "file_extension": ".py",
   "mimetype": "text/x-python",
   "name": "python",
   "nbconvert_exporter": "python",
   "pygments_lexer": "ipython3",
   "version": "3.9.12"
  }
 },
 "nbformat": 4,
 "nbformat_minor": 5
}
