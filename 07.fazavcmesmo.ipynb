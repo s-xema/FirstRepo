{
 "cells": [
  {
   "cell_type": "code",
   "execution_count": 19,
   "id": "b5664639-4219-4a81-a49d-9a56ef35c773",
   "metadata": {
    "tags": []
   },
   "outputs": [
    {
     "name": "stdout",
     "output_type": "stream",
     "text": [
      "Amplitude: 110\n"
     ]
    }
   ],
   "source": [
    "#1.Calcular a Amplitude\n",
    "\n",
    "def amplitude (n):\n",
    "    amp = max(n)-min(n)\n",
    "    print (\"Amplitude:\",amp)\n",
    "    return amp\n",
    "\n",
    "lst=[2, 40, 33, 17, 80,1,-30]\n",
    "x=amplitude(lst)"
   ]
  },
  {
   "cell_type": "code",
   "execution_count": 15,
   "id": "f64cf084-f25c-4253-92b6-55124bd6edc0",
   "metadata": {},
   "outputs": [
    {
     "name": "stdin",
     "output_type": "stream",
     "text": [
      "informe a palavra a modificar:  33\n"
     ]
    },
    {
     "name": "stdout",
     "output_type": "stream",
     "text": [
      "3\n",
      "3\n"
     ]
    }
   ],
   "source": [
    "#2.Mostrar texto na vertical\n",
    "\n",
    "def vertical (t):\n",
    "    for n in range(0, len(t)):\n",
    "        print(t[n])\n",
    "\n",
    "text = input (\"informe a palavra a modificar: \")\n",
    "vertical(text)"
   ]
  },
  {
   "cell_type": "code",
   "execution_count": 26,
   "id": "0ccf109e-ea76-4de4-9687-086f8c21bce2",
   "metadata": {},
   "outputs": [
    {
     "name": "stdin",
     "output_type": "stream",
     "text": [
      "introduzca el peso:  10\n"
     ]
    },
    {
     "name": "stdout",
     "output_type": "stream",
     "text": [
      "O valor da carga sao 50$\n"
     ]
    }
   ],
   "source": [
    "#3.Calcular preço do transporte em funçao do peso\n",
    "\n",
    "def preco (peso):    \n",
    "    if (peso <= 10):\n",
    "        print(\"O valor da carga sao 50$\")\n",
    "    elif (peso > 20):\n",
    "        print(\"O transporte ñao é aceito\")\n",
    "    else :\n",
    "        print(\"O valor da carga so 80$\")\n",
    "\n",
    "peso1 = input (\"introduzca el peso: \")\n",
    "peso1 = int (peso1)\n",
    "if (peso1<0):\n",
    "    print (\"peso invalido\")\n",
    "else: \n",
    "    preco (peso1)\n"
   ]
  }
 ],
 "metadata": {
  "kernelspec": {
   "display_name": "Python 3 (ipykernel)",
   "language": "python",
   "name": "python3"
  },
  "language_info": {
   "codemirror_mode": {
    "name": "ipython",
    "version": 3
   },
   "file_extension": ".py",
   "mimetype": "text/x-python",
   "name": "python",
   "nbconvert_exporter": "python",
   "pygments_lexer": "ipython3",
   "version": "3.9.12"
  }
 },
 "nbformat": 4,
 "nbformat_minor": 5
}
