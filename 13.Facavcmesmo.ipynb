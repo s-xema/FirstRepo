{
 "cells": [
  {
   "cell_type": "markdown",
   "id": "379fb193-d802-449f-be13-650da9df1e39",
   "metadata": {},
   "source": [
    "CURSO CIIENTISTA DE DADOS\n",
    "13. FAÇA VC MESMO\n",
    "Visualização de Dados"
   ]
  },
  {
   "cell_type": "code",
   "execution_count": 53,
   "id": "bcd71032-0c1d-4acd-8fb1-36dd567b5b5c",
   "metadata": {},
   "outputs": [],
   "source": [
    "# Importação das bibliotecas\n",
    "import pandas as pd\n",
    "import numpy as np\n",
    "import seaborn as srn\n",
    "import matplotlib.pyplot as plt"
   ]
  },
  {
   "cell_type": "code",
   "execution_count": 93,
   "id": "23e758c6-0a3c-40c4-8319-5bfee4a86245",
   "metadata": {},
   "outputs": [
    {
     "data": {
      "text/html": [
       "<div>\n",
       "<style scoped>\n",
       "    .dataframe tbody tr th:only-of-type {\n",
       "        vertical-align: middle;\n",
       "    }\n",
       "\n",
       "    .dataframe tbody tr th {\n",
       "        vertical-align: top;\n",
       "    }\n",
       "\n",
       "    .dataframe thead th {\n",
       "        text-align: right;\n",
       "    }\n",
       "</style>\n",
       "<table border=\"1\" class=\"dataframe\">\n",
       "  <thead>\n",
       "    <tr style=\"text-align: right;\">\n",
       "      <th></th>\n",
       "      <th>CODIGO</th>\n",
       "      <th>MUNICIPIO</th>\n",
       "      <th>PIB</th>\n",
       "      <th>VALOREMPENHO</th>\n",
       "    </tr>\n",
       "  </thead>\n",
       "  <tbody>\n",
       "    <tr>\n",
       "      <th>0</th>\n",
       "      <td>106</td>\n",
       "      <td>SANTANA DO LIVRAMENTO</td>\n",
       "      <td>12240.76</td>\n",
       "      <td>1088666.10</td>\n",
       "    </tr>\n",
       "    <tr>\n",
       "      <th>1</th>\n",
       "      <td>113</td>\n",
       "      <td>SANTO ANGELO</td>\n",
       "      <td>16575.82</td>\n",
       "      <td>800669.92</td>\n",
       "    </tr>\n",
       "    <tr>\n",
       "      <th>2</th>\n",
       "      <td>118</td>\n",
       "      <td>SAO FRANCISCO DE ASSIS</td>\n",
       "      <td>12037.61</td>\n",
       "      <td>466122.80</td>\n",
       "    </tr>\n",
       "    <tr>\n",
       "      <th>3</th>\n",
       "      <td>13</td>\n",
       "      <td>CACAPAVA DO SUL</td>\n",
       "      <td>13674.54</td>\n",
       "      <td>485535.86</td>\n",
       "    </tr>\n",
       "    <tr>\n",
       "      <th>4</th>\n",
       "      <td>120</td>\n",
       "      <td>SAO GABRIEL</td>\n",
       "      <td>19912.38</td>\n",
       "      <td>533719.86</td>\n",
       "    </tr>\n",
       "    <tr>\n",
       "      <th>...</th>\n",
       "      <td>...</td>\n",
       "      <td>...</td>\n",
       "      <td>...</td>\n",
       "      <td>...</td>\n",
       "    </tr>\n",
       "    <tr>\n",
       "      <th>182</th>\n",
       "      <td>372</td>\n",
       "      <td>SANTA VITORIA DO PALMAR</td>\n",
       "      <td>27170.89</td>\n",
       "      <td>760.00</td>\n",
       "    </tr>\n",
       "    <tr>\n",
       "      <th>183</th>\n",
       "      <td>107</td>\n",
       "      <td>SANTA BARBARA DO SUL</td>\n",
       "      <td>29654.02</td>\n",
       "      <td>365.00</td>\n",
       "    </tr>\n",
       "    <tr>\n",
       "      <th>184</th>\n",
       "      <td>54</td>\n",
       "      <td>GETULIO VARGAS</td>\n",
       "      <td>16876.33</td>\n",
       "      <td>233.01</td>\n",
       "    </tr>\n",
       "    <tr>\n",
       "      <th>185</th>\n",
       "      <td>382</td>\n",
       "      <td>NOVA SANTA RITA</td>\n",
       "      <td>25938.38</td>\n",
       "      <td>310.58</td>\n",
       "    </tr>\n",
       "    <tr>\n",
       "      <th>186</th>\n",
       "      <td>60</td>\n",
       "      <td>GUARANI DAS MISSOES</td>\n",
       "      <td>24363.31</td>\n",
       "      <td>172.13</td>\n",
       "    </tr>\n",
       "  </tbody>\n",
       "</table>\n",
       "<p>187 rows × 4 columns</p>\n",
       "</div>"
      ],
      "text/plain": [
       "     CODIGO                MUNICIPIO       PIB  VALOREMPENHO\n",
       "0       106    SANTANA DO LIVRAMENTO  12240.76    1088666.10\n",
       "1       113             SANTO ANGELO  16575.82     800669.92\n",
       "2       118   SAO FRANCISCO DE ASSIS  12037.61     466122.80\n",
       "3        13          CACAPAVA DO SUL  13674.54     485535.86\n",
       "4       120              SAO GABRIEL  19912.38     533719.86\n",
       "..      ...                      ...       ...           ...\n",
       "182     372  SANTA VITORIA DO PALMAR  27170.89        760.00\n",
       "183     107     SANTA BARBARA DO SUL  29654.02        365.00\n",
       "184      54           GETULIO VARGAS  16876.33        233.01\n",
       "185     382          NOVA SANTA RITA  25938.38        310.58\n",
       "186      60      GUARANI DAS MISSOES  24363.31        172.13\n",
       "\n",
       "[187 rows x 4 columns]"
      ]
     },
     "execution_count": 93,
     "metadata": {},
     "output_type": "execute_result"
    }
   ],
   "source": [
    "data = pd.read_csv('dados.csv',delimiter=';')\n",
    "data"
   ]
  },
  {
   "cell_type": "code",
   "execution_count": 81,
   "id": "b5c20548-df6e-4982-9ccd-ee6c7342b543",
   "metadata": {},
   "outputs": [
    {
     "data": {
      "text/html": [
       "<div>\n",
       "<style scoped>\n",
       "    .dataframe tbody tr th:only-of-type {\n",
       "        vertical-align: middle;\n",
       "    }\n",
       "\n",
       "    .dataframe tbody tr th {\n",
       "        vertical-align: top;\n",
       "    }\n",
       "\n",
       "    .dataframe thead th {\n",
       "        text-align: right;\n",
       "    }\n",
       "</style>\n",
       "<table border=\"1\" class=\"dataframe\">\n",
       "  <thead>\n",
       "    <tr style=\"text-align: right;\">\n",
       "      <th></th>\n",
       "      <th>CODIGO</th>\n",
       "      <th>MUNICIPIO</th>\n",
       "      <th>PIB</th>\n",
       "      <th>VALOREMPENHO</th>\n",
       "    </tr>\n",
       "  </thead>\n",
       "  <tbody>\n",
       "    <tr>\n",
       "      <th>0</th>\n",
       "      <td>106</td>\n",
       "      <td>SANTANA DO LIVRAMENTO</td>\n",
       "      <td>12240.76</td>\n",
       "      <td>1088666.10</td>\n",
       "    </tr>\n",
       "    <tr>\n",
       "      <th>1</th>\n",
       "      <td>113</td>\n",
       "      <td>SANTO ANGELO</td>\n",
       "      <td>16575.82</td>\n",
       "      <td>800669.92</td>\n",
       "    </tr>\n",
       "    <tr>\n",
       "      <th>2</th>\n",
       "      <td>118</td>\n",
       "      <td>SAO FRANCISCO DE ASSIS</td>\n",
       "      <td>12037.61</td>\n",
       "      <td>466122.80</td>\n",
       "    </tr>\n",
       "    <tr>\n",
       "      <th>3</th>\n",
       "      <td>13</td>\n",
       "      <td>CACAPAVA DO SUL</td>\n",
       "      <td>13674.54</td>\n",
       "      <td>485535.86</td>\n",
       "    </tr>\n",
       "    <tr>\n",
       "      <th>4</th>\n",
       "      <td>120</td>\n",
       "      <td>SAO GABRIEL</td>\n",
       "      <td>19912.38</td>\n",
       "      <td>533719.86</td>\n",
       "    </tr>\n",
       "    <tr>\n",
       "      <th>...</th>\n",
       "      <td>...</td>\n",
       "      <td>...</td>\n",
       "      <td>...</td>\n",
       "      <td>...</td>\n",
       "    </tr>\n",
       "    <tr>\n",
       "      <th>182</th>\n",
       "      <td>372</td>\n",
       "      <td>SANTA VITORIA DO PALMAR</td>\n",
       "      <td>27170.89</td>\n",
       "      <td>760.00</td>\n",
       "    </tr>\n",
       "    <tr>\n",
       "      <th>183</th>\n",
       "      <td>107</td>\n",
       "      <td>SANTA BARBARA DO SUL</td>\n",
       "      <td>29654.02</td>\n",
       "      <td>365.00</td>\n",
       "    </tr>\n",
       "    <tr>\n",
       "      <th>184</th>\n",
       "      <td>54</td>\n",
       "      <td>GETULIO VARGAS</td>\n",
       "      <td>16876.33</td>\n",
       "      <td>233.01</td>\n",
       "    </tr>\n",
       "    <tr>\n",
       "      <th>185</th>\n",
       "      <td>382</td>\n",
       "      <td>NOVA SANTA RITA</td>\n",
       "      <td>25938.38</td>\n",
       "      <td>310.58</td>\n",
       "    </tr>\n",
       "    <tr>\n",
       "      <th>186</th>\n",
       "      <td>60</td>\n",
       "      <td>GUARANI DAS MISSOES</td>\n",
       "      <td>24363.31</td>\n",
       "      <td>172.13</td>\n",
       "    </tr>\n",
       "  </tbody>\n",
       "</table>\n",
       "<p>187 rows × 4 columns</p>\n",
       "</div>"
      ],
      "text/plain": [
       "     CODIGO                MUNICIPIO       PIB  VALOREMPENHO\n",
       "0       106    SANTANA DO LIVRAMENTO  12240.76    1088666.10\n",
       "1       113             SANTO ANGELO  16575.82     800669.92\n",
       "2       118   SAO FRANCISCO DE ASSIS  12037.61     466122.80\n",
       "3        13          CACAPAVA DO SUL  13674.54     485535.86\n",
       "4       120              SAO GABRIEL  19912.38     533719.86\n",
       "..      ...                      ...       ...           ...\n",
       "182     372  SANTA VITORIA DO PALMAR  27170.89        760.00\n",
       "183     107     SANTA BARBARA DO SUL  29654.02        365.00\n",
       "184      54           GETULIO VARGAS  16876.33        233.01\n",
       "185     382          NOVA SANTA RITA  25938.38        310.58\n",
       "186      60      GUARANI DAS MISSOES  24363.31        172.13\n",
       "\n",
       "[187 rows x 4 columns]"
      ]
     },
     "execution_count": 86,
     "metadata": {},
     "output_type": "execute_result"
    }
   ],
   "source": [
    "data"
   ]
  },
  {
   "cell_type": "code",
   "execution_count": 46,
   "id": "ccaf95c4-b5fd-4d6d-a9dd-f30b9c9a6881",
   "metadata": {},
   "outputs": [
    {
     "name": "stderr",
     "output_type": "stream",
     "text": [
      "C:\\ProgramData\\Anaconda3\\lib\\site-packages\\seaborn\\_decorators.py:36: FutureWarning: Pass the following variables as keyword args: x, y. From version 0.12, the only valid positional argument will be `data`, and passing other arguments without an explicit keyword will result in an error or misinterpretation.\n",
      "  warnings.warn(\n"
     ]
    },
    {
     "data": {
      "text/plain": [
       "<AxesSubplot:xlabel='PIB', ylabel='MUNICIPIO'>"
      ]
     },
     "execution_count": 46,
     "metadata": {},
     "output_type": "execute_result"
    },
    {
     "data": {
      "image/png": "[encoded data removed]",
      "text/plain": [
       "<Figure size 432x288 with 1 Axes>"
      ]
     },
     "metadata": {
      "needs_background": "light"
     },
     "output_type": "display_data"
    }
   ],
   "source": [
    "srn.scatterplot(data.PIB, data.MUNICIPIO)"
   ]
  },
  {
   "cell_type": "code",
   "execution_count": 13,
   "id": "d6278dca-d547-408b-95a8-a8d755639cd6",
   "metadata": {},
   "outputs": [
    {
     "name": "stderr",
     "output_type": "stream",
     "text": [
      "C:\\ProgramData\\Anaconda3\\lib\\site-packages\\seaborn\\_decorators.py:36: FutureWarning: Pass the following variables as keyword args: x, y. From version 0.12, the only valid positional argument will be `data`, and passing other arguments without an explicit keyword will result in an error or misinterpretation.\n",
      "  warnings.warn(\n"
     ]
    },
    {
     "data": {
      "text/plain": [
       "<AxesSubplot:xlabel='MUNICIPIO', ylabel='PIB'>"
      ]
     },
     "execution_count": 13,
     "metadata": {},
     "output_type": "execute_result"
    },
    {
     "data": {
      "image/png": "[encoded data removed]",
      "text/plain": [
       "<Figure size 432x288 with 1 Axes>"
      ]
     },
     "metadata": {
      "needs_background": "light"
     },
     "output_type": "display_data"
    }
   ],
   "source": [
    "srn.scatterplot(data.MUNICIPIO, data.PIB)"
   ]
  },
  {
   "cell_type": "code",
   "execution_count": 62,
   "id": "9a0e6d98-aa3f-41b1-8f65-bd61519b9449",
   "metadata": {},
   "outputs": [
    {
     "name": "stderr",
     "output_type": "stream",
     "text": [
      "C:\\ProgramData\\Anaconda3\\lib\\site-packages\\seaborn\\distributions.py:2619: FutureWarning: `distplot` is a deprecated function and will be removed in a future version. Please adapt your code to use either `displot` (a figure-level function with similar flexibility) or `histplot` (an axes-level function for histograms).\n",
      "  warnings.warn(msg, FutureWarning)\n"
     ]
    },
    {
     "data": {
      "text/plain": [
       "Text(0.5, 1.0, 'PIB')"
      ]
     },
     "execution_count": 62,
     "metadata": {},
     "output_type": "execute_result"
    },
    {
     "data": {
      "image/png": "[encoded data removed]",
      "text/plain": [
       "<Figure size 432x288 with 1 Axes>"
      ]
     },
     "metadata": {
      "needs_background": "light"
     },
     "output_type": "display_data"
    }
   ],
   "source": [
    "srn.distplot(data.PIB, axlabel = 'PIB').set_title('PIB')"
   ]
  },
  {
   "cell_type": "code",
   "execution_count": 59,
   "id": "d5dbf2c1-b2b7-4c18-b402-3b6aa92ae935",
   "metadata": {},
   "outputs": [
    {
     "name": "stderr",
     "output_type": "stream",
     "text": [
      "C:\\ProgramData\\Anaconda3\\lib\\site-packages\\seaborn\\_decorators.py:36: FutureWarning: Pass the following variables as keyword args: x, y. From version 0.12, the only valid positional argument will be `data`, and passing other arguments without an explicit keyword will result in an error or misinterpretation.\n",
      "  warnings.warn(\n"
     ]
    },
    {
     "data": {
      "text/plain": [
       "<AxesSubplot:xlabel='PIB', ylabel='VALOREMPENHO'>"
      ]
     },
     "execution_count": 59,
     "metadata": {},
     "output_type": "execute_result"
    },
    {
     "data": {
      "image/png": "[encoded data removed]",
      "text/plain": [
       "<Figure size 432x288 with 1 Axes>"
      ]
     },
     "metadata": {
      "needs_background": "light"
     },
     "output_type": "display_data"
    }
   ],
   "source": [
    "srn.scatterplot(data.PIB, data.VALOREMPENHO)"
   ]
  },
  {
   "cell_type": "code",
   "execution_count": 68,
   "id": "5c6de85a-a1fb-44d7-9441-72f487f99ebb",
   "metadata": {},
   "outputs": [
    {
     "data": {
      "text/plain": [
       "<seaborn.axisgrid.FacetGrid at 0x234a8156e20>"
      ]
     },
     "execution_count": 68,
     "metadata": {},
     "output_type": "execute_result"
    },
    {
     "data": {
      "image/png": "[encoded data removed]",
      "text/plain": [
       "<Figure size 360x360 with 1 Axes>"
      ]
     },
     "metadata": {
      "needs_background": "light"
     },
     "output_type": "display_data"
    }
   ],
   "source": [
    "srn.displot(data.VALOREMPENHO, kde=True)"
   ]
  },
  {
   "cell_type": "code",
   "execution_count": 15,
   "id": "3b7f91eb-6c97-4896-841c-88399d849c27",
   "metadata": {},
   "outputs": [
    {
     "data": {
      "text/plain": [
       "count    1.870000e+02\n",
       "mean     1.299844e+05\n",
       "std      1.615491e+05\n",
       "min      1.721300e+02\n",
       "25%      5.251718e+04\n",
       "50%      8.422816e+04\n",
       "75%      1.538961e+05\n",
       "max      1.442760e+06\n",
       "Name: VALOREMPENHO, dtype: float64"
      ]
     },
     "execution_count": 15,
     "metadata": {},
     "output_type": "execute_result"
    }
   ],
   "source": [
    "data.VALOREMPENHO.describe()"
   ]
  },
  {
   "cell_type": "code",
   "execution_count": 69,
   "id": "573f01d0-89e0-4bb3-8bd0-23efcbfa7830",
   "metadata": {},
   "outputs": [
    {
     "data": {
      "text/plain": [
       "{'whiskers': [<matplotlib.lines.Line2D at 0x234a9276dc0>,\n",
       "  <matplotlib.lines.Line2D at 0x234a92850d0>],\n",
       " 'caps': [<matplotlib.lines.Line2D at 0x234a92853a0>,\n",
       "  <matplotlib.lines.Line2D at 0x234a92856a0>],\n",
       " 'boxes': [<matplotlib.lines.Line2D at 0x234a92689d0>],\n",
       " 'medians': [<matplotlib.lines.Line2D at 0x234a9285970>],\n",
       " 'fliers': [<matplotlib.lines.Line2D at 0x234a9285c40>],\n",
       " 'means': []}"
      ]
     },
     "execution_count": 69,
     "metadata": {},
     "output_type": "execute_result"
    },
    {
     "data": {
      "image/png": "[encoded data removed]",
      "text/plain": [
       "<Figure size 432x288 with 1 Axes>"
      ]
     },
     "metadata": {
      "needs_background": "light"
     },
     "output_type": "display_data"
    }
   ],
   "source": [
    "plt.boxplot(data.VALOREMPENHO)"
   ]
  },
  {
   "cell_type": "code",
   "execution_count": 70,
   "id": "b4ec94b3-aa4a-47be-ac9e-a2cabdda64ce",
   "metadata": {},
   "outputs": [
    {
     "data": {
      "text/plain": [
       "{'whiskers': [<matplotlib.lines.Line2D at 0x234a92e1b20>,\n",
       "  <matplotlib.lines.Line2D at 0x234a92e1df0>,\n",
       "  <matplotlib.lines.Line2D at 0x234a92f1f10>,\n",
       "  <matplotlib.lines.Line2D at 0x234a92fe250>],\n",
       " 'caps': [<matplotlib.lines.Line2D at 0x234a92f1100>,\n",
       "  <matplotlib.lines.Line2D at 0x234a92f13d0>,\n",
       "  <matplotlib.lines.Line2D at 0x234a92fe520>,\n",
       "  <matplotlib.lines.Line2D at 0x234a92fe7f0>],\n",
       " 'boxes': [<matplotlib.lines.Line2D at 0x234a92e1850>,\n",
       "  <matplotlib.lines.Line2D at 0x234a92f1c40>],\n",
       " 'medians': [<matplotlib.lines.Line2D at 0x234a92f16a0>,\n",
       "  <matplotlib.lines.Line2D at 0x234a92feac0>],\n",
       " 'fliers': [<matplotlib.lines.Line2D at 0x234a92f1970>,\n",
       "  <matplotlib.lines.Line2D at 0x234a92fed90>],\n",
       " 'means': []}"
      ]
     },
     "execution_count": 70,
     "metadata": {},
     "output_type": "execute_result"
    },
    {
     "data": {
      "image/png": "[encoded data removed]",
      "text/plain": [
       "<Figure size 432x288 with 1 Axes>"
      ]
     },
     "metadata": {
      "needs_background": "light"
     },
     "output_type": "display_data"
    }
   ],
   "source": [
    "x = [data.PIB, data.VALOREMPENHO]\n",
    "plt.boxplot(x)"
   ]
  },
  {
   "cell_type": "code",
   "execution_count": 71,
   "id": "7e0b002c-01e4-4790-9e65-2cfa449912f9",
   "metadata": {},
   "outputs": [
    {
     "data": {
      "text/plain": [
       "17206.19"
      ]
     },
     "execution_count": 71,
     "metadata": {},
     "output_type": "execute_result"
    }
   ],
   "source": [
    "mediana_PIB = np.median(data.PIB)\n",
    "mediana_PIB"
   ]
  },
  {
   "cell_type": "code",
   "execution_count": 72,
   "id": "e5c52565-3398-4159-8703-f4956303f5dc",
   "metadata": {},
   "outputs": [
    {
     "data": {
      "text/plain": [
       "{'whiskers': [<matplotlib.lines.Line2D at 0x234a9358e50>,\n",
       "  <matplotlib.lines.Line2D at 0x234a9368160>],\n",
       " 'caps': [<matplotlib.lines.Line2D at 0x234a9368430>,\n",
       "  <matplotlib.lines.Line2D at 0x234a9368700>],\n",
       " 'boxes': [<matplotlib.lines.Line2D at 0x234a9349a00>],\n",
       " 'medians': [<matplotlib.lines.Line2D at 0x234a93689d0>],\n",
       " 'fliers': [],\n",
       " 'means': []}"
      ]
     },
     "execution_count": 72,
     "metadata": {},
     "output_type": "execute_result"
    },
    {
     "data": {
      "image/png": "[encoded data removed]",
      "text/plain": [
       "<Figure size 432x288 with 1 Axes>"
      ]
     },
     "metadata": {
      "needs_background": "light"
     },
     "output_type": "display_data"
    }
   ],
   "source": [
    "plt.boxplot(data.PIB, showfliers=False)"
   ]
  },
  {
   "cell_type": "code",
   "execution_count": 73,
   "id": "ff567551-2d2f-4442-9b87-5d8b3031ce23",
   "metadata": {},
   "outputs": [
    {
     "data": {
      "text/plain": [
       "{'whiskers': [<matplotlib.lines.Line2D at 0x234a93bd7f0>,\n",
       "  <matplotlib.lines.Line2D at 0x234a93bdac0>],\n",
       " 'caps': [<matplotlib.lines.Line2D at 0x234a93bdd90>,\n",
       "  <matplotlib.lines.Line2D at 0x234a93ca070>],\n",
       " 'boxes': [<matplotlib.lines.Line2D at 0x234a93bd520>],\n",
       " 'medians': [<matplotlib.lines.Line2D at 0x234a93ca250>],\n",
       " 'fliers': [],\n",
       " 'means': []}"
      ]
     },
     "execution_count": 73,
     "metadata": {},
     "output_type": "execute_result"
    },
    {
     "data": {
      "image/png": "[encoded data removed]",
      "text/plain": [
       "<Figure size 432x288 with 1 Axes>"
      ]
     },
     "metadata": {
      "needs_background": "light"
     },
     "output_type": "display_data"
    }
   ],
   "source": [
    "plt.boxplot(data.VALOREMPENHO, showfliers=False)"
   ]
  },
  {
   "cell_type": "code",
   "execution_count": 23,
   "id": "8d01d2c0-2ca5-4901-9429-5201c6895957",
   "metadata": {},
   "outputs": [
    {
     "name": "stderr",
     "output_type": "stream",
     "text": [
      "C:\\ProgramData\\Anaconda3\\lib\\site-packages\\seaborn\\_decorators.py:36: FutureWarning: Pass the following variables as keyword args: x, y. From version 0.12, the only valid positional argument will be `data`, and passing other arguments without an explicit keyword will result in an error or misinterpretation.\n",
      "  warnings.warn(\n"
     ]
    },
    {
     "data": {
      "text/plain": [
       "<AxesSubplot:xlabel='MUNICIPIO', ylabel='PIB'>"
      ]
     },
     "execution_count": 23,
     "metadata": {},
     "output_type": "execute_result"
    },
    {
     "data": {
      "image/png": "[encoded data removed]",
      "text/plain": [
       "<Figure size 432x288 with 1 Axes>"
      ]
     },
     "metadata": {
      "needs_background": "light"
     },
     "output_type": "display_data"
    }
   ],
   "source": [
    "srn.scatterplot(data.MUNICIPIO, (data.PIB)<= 50000)"
   ]
  },
  {
   "cell_type": "code",
   "execution_count": 75,
   "id": "0c02ee00-72fa-4296-9cb5-fec18192e242",
   "metadata": {},
   "outputs": [
    {
     "name": "stderr",
     "output_type": "stream",
     "text": [
      "C:\\ProgramData\\Anaconda3\\lib\\site-packages\\seaborn\\_decorators.py:36: FutureWarning: Pass the following variables as keyword args: x, y. From version 0.12, the only valid positional argument will be `data`, and passing other arguments without an explicit keyword will result in an error or misinterpretation.\n",
      "  warnings.warn(\n"
     ]
    },
    {
     "data": {
      "text/plain": [
       "<AxesSubplot:xlabel='PIB', ylabel='PIB'>"
      ]
     },
     "execution_count": 75,
     "metadata": {},
     "output_type": "execute_result"
    },
    {
     "data": {
      "image/png": "[encoded data removed]",
      "text/plain": [
       "<Figure size 432x288 with 1 Axes>"
      ]
     },
     "metadata": {
      "needs_background": "light"
     },
     "output_type": "display_data"
    }
   ],
   "source": [
    "srn.scatterplot(data.PIB, (data.PIB<= 50000) | (data.PIB>= 0))"
   ]
  },
  {
   "cell_type": "code",
   "execution_count": 29,
   "id": "ceb22fdb-0471-474d-8c0a-a2d86095f7a5",
   "metadata": {},
   "outputs": [
    {
     "data": {
      "text/plain": [
       "<bound method NDFrame.describe of 0      12240.76\n",
       "1      16575.82\n",
       "2      12037.61\n",
       "3      13674.54\n",
       "4      19912.38\n",
       "         ...   \n",
       "182    27170.89\n",
       "183    29654.02\n",
       "184    16876.33\n",
       "185    25938.38\n",
       "186    24363.31\n",
       "Name: PIB, Length: 187, dtype: float64>"
      ]
     },
     "execution_count": 29,
     "metadata": {},
     "output_type": "execute_result"
    }
   ],
   "source": [
    "data.PIB.describe\n",
    "\n"
   ]
  },
  {
   "cell_type": "code",
   "execution_count": 27,
   "id": "140b1175-c1d6-4606-9fbf-bfabd9a63552",
   "metadata": {},
   "outputs": [
    {
     "name": "stderr",
     "output_type": "stream",
     "text": [
      "C:\\ProgramData\\Anaconda3\\lib\\site-packages\\seaborn\\_decorators.py:36: FutureWarning: Pass the following variables as keyword args: x, y. From version 0.12, the only valid positional argument will be `data`, and passing other arguments without an explicit keyword will result in an error or misinterpretation.\n",
      "  warnings.warn(\n"
     ]
    },
    {
     "data": {
      "text/plain": [
       "<AxesSubplot:xlabel='PIB', ylabel='VALOREMPENHO'>"
      ]
     },
     "execution_count": 27,
     "metadata": {},
     "output_type": "execute_result"
    },
    {
     "data": {
      "image/png": "[encoded data removed]",
      "text/plain": [
       "<Figure size 432x288 with 1 Axes>"
      ]
     },
     "metadata": {
      "needs_background": "light"
     },
     "output_type": "display_data"
    }
   ],
   "source": [
    "srn.scatterplot(data.PIB,data.VALOREMPENHO)"
   ]
  },
  {
   "cell_type": "code",
   "execution_count": 76,
   "id": "2603ab56-0c9c-41a4-a565-4108b0fa8d2a",
   "metadata": {},
   "outputs": [
    {
     "data": {
      "text/plain": [
       "count       187.000000\n",
       "mean      19808.741337\n",
       "std       16984.223244\n",
       "min        8236.630000\n",
       "25%       13621.455000\n",
       "50%       17206.190000\n",
       "75%       21429.165000\n",
       "max      223848.220000\n",
       "Name: PIB, dtype: float64"
      ]
     },
     "execution_count": 76,
     "metadata": {},
     "output_type": "execute_result"
    }
   ],
   "source": [
    "data.PIB.describe()"
   ]
  },
  {
   "cell_type": "code",
   "execution_count": 32,
   "id": "6dd71cc8-af0e-4cc6-8164-cc1d0e4dd20b",
   "metadata": {},
   "outputs": [
    {
     "data": {
      "text/plain": [
       "0"
      ]
     },
     "execution_count": 32,
     "metadata": {},
     "output_type": "execute_result"
    }
   ],
   "source": [
    "data.PIB.isnull().sum()"
   ]
  },
  {
   "cell_type": "code",
   "execution_count": 33,
   "id": "208ba2c5-b32a-4375-ae05-ff470b83dd7e",
   "metadata": {},
   "outputs": [
    {
     "data": {
      "text/plain": [
       "CODIGO          0\n",
       "MUNICIPIO       0\n",
       "PIB             0\n",
       "VALOREMPENHO    0\n",
       "dtype: int64"
      ]
     },
     "execution_count": 33,
     "metadata": {},
     "output_type": "execute_result"
    }
   ],
   "source": [
    "data.isnull().sum()"
   ]
  },
  {
   "cell_type": "code",
   "execution_count": 94,
   "id": "28c04025-2c68-4525-af94-b277f113aa0e",
   "metadata": {},
   "outputs": [
    {
     "data": {
      "text/html": [
       "<div>\n",
       "<style scoped>\n",
       "    .dataframe tbody tr th:only-of-type {\n",
       "        vertical-align: middle;\n",
       "    }\n",
       "\n",
       "    .dataframe tbody tr th {\n",
       "        vertical-align: top;\n",
       "    }\n",
       "\n",
       "    .dataframe thead th {\n",
       "        text-align: right;\n",
       "    }\n",
       "</style>\n",
       "<table border=\"1\" class=\"dataframe\">\n",
       "  <thead>\n",
       "    <tr style=\"text-align: right;\">\n",
       "      <th></th>\n",
       "      <th>CODIGO</th>\n",
       "      <th>MUNICIPIO</th>\n",
       "      <th>PIB</th>\n",
       "      <th>VALOREMPENHO</th>\n",
       "    </tr>\n",
       "  </thead>\n",
       "  <tbody>\n",
       "    <tr>\n",
       "      <th>0</th>\n",
       "      <td>106</td>\n",
       "      <td>SANTANA DO LIVRAMENTO</td>\n",
       "      <td>12240.76</td>\n",
       "      <td>1088666.10</td>\n",
       "    </tr>\n",
       "    <tr>\n",
       "      <th>1</th>\n",
       "      <td>113</td>\n",
       "      <td>SANTO ANGELO</td>\n",
       "      <td>16575.82</td>\n",
       "      <td>800669.92</td>\n",
       "    </tr>\n",
       "    <tr>\n",
       "      <th>2</th>\n",
       "      <td>118</td>\n",
       "      <td>SAO FRANCISCO DE ASSIS</td>\n",
       "      <td>12037.61</td>\n",
       "      <td>466122.80</td>\n",
       "    </tr>\n",
       "    <tr>\n",
       "      <th>3</th>\n",
       "      <td>13</td>\n",
       "      <td>CACAPAVA DO SUL</td>\n",
       "      <td>13674.54</td>\n",
       "      <td>485535.86</td>\n",
       "    </tr>\n",
       "    <tr>\n",
       "      <th>4</th>\n",
       "      <td>120</td>\n",
       "      <td>SAO GABRIEL</td>\n",
       "      <td>19912.38</td>\n",
       "      <td>533719.86</td>\n",
       "    </tr>\n",
       "    <tr>\n",
       "      <th>...</th>\n",
       "      <td>...</td>\n",
       "      <td>...</td>\n",
       "      <td>...</td>\n",
       "      <td>...</td>\n",
       "    </tr>\n",
       "    <tr>\n",
       "      <th>182</th>\n",
       "      <td>372</td>\n",
       "      <td>SANTA VITORIA DO PALMAR</td>\n",
       "      <td>27170.89</td>\n",
       "      <td>760.00</td>\n",
       "    </tr>\n",
       "    <tr>\n",
       "      <th>183</th>\n",
       "      <td>107</td>\n",
       "      <td>SANTA BARBARA DO SUL</td>\n",
       "      <td>29654.02</td>\n",
       "      <td>365.00</td>\n",
       "    </tr>\n",
       "    <tr>\n",
       "      <th>184</th>\n",
       "      <td>54</td>\n",
       "      <td>GETULIO VARGAS</td>\n",
       "      <td>16876.33</td>\n",
       "      <td>233.01</td>\n",
       "    </tr>\n",
       "    <tr>\n",
       "      <th>185</th>\n",
       "      <td>382</td>\n",
       "      <td>NOVA SANTA RITA</td>\n",
       "      <td>25938.38</td>\n",
       "      <td>310.58</td>\n",
       "    </tr>\n",
       "    <tr>\n",
       "      <th>186</th>\n",
       "      <td>60</td>\n",
       "      <td>GUARANI DAS MISSOES</td>\n",
       "      <td>24363.31</td>\n",
       "      <td>172.13</td>\n",
       "    </tr>\n",
       "  </tbody>\n",
       "</table>\n",
       "<p>187 rows × 4 columns</p>\n",
       "</div>"
      ],
      "text/plain": [
       "     CODIGO                MUNICIPIO       PIB  VALOREMPENHO\n",
       "0       106    SANTANA DO LIVRAMENTO  12240.76    1088666.10\n",
       "1       113             SANTO ANGELO  16575.82     800669.92\n",
       "2       118   SAO FRANCISCO DE ASSIS  12037.61     466122.80\n",
       "3        13          CACAPAVA DO SUL  13674.54     485535.86\n",
       "4       120              SAO GABRIEL  19912.38     533719.86\n",
       "..      ...                      ...       ...           ...\n",
       "182     372  SANTA VITORIA DO PALMAR  27170.89        760.00\n",
       "183     107     SANTA BARBARA DO SUL  29654.02        365.00\n",
       "184      54           GETULIO VARGAS  16876.33        233.01\n",
       "185     382          NOVA SANTA RITA  25938.38        310.58\n",
       "186      60      GUARANI DAS MISSOES  24363.31        172.13\n",
       "\n",
       "[187 rows x 4 columns]"
      ]
     },
     "execution_count": 94,
     "metadata": {},
     "output_type": "execute_result"
    }
   ],
   "source": [
    "data.loc[(data.PIB> 50000) | (data.PIB< 0), 'PIB']= mediana_PIB\n",
    "data"
   ]
  },
  {
   "cell_type": "code",
   "execution_count": 95,
   "id": "a1eec313-b291-45e9-93d7-7b031eb4d84f",
   "metadata": {},
   "outputs": [
    {
     "name": "stderr",
     "output_type": "stream",
     "text": [
      "C:\\ProgramData\\Anaconda3\\lib\\site-packages\\seaborn\\_decorators.py:36: FutureWarning: Pass the following variables as keyword args: x, y. From version 0.12, the only valid positional argument will be `data`, and passing other arguments without an explicit keyword will result in an error or misinterpretation.\n",
      "  warnings.warn(\n"
     ]
    },
    {
     "data": {
      "text/plain": [
       "<AxesSubplot:xlabel='PIB', ylabel='VALOREMPENHO'>"
      ]
     },
     "execution_count": 95,
     "metadata": {},
     "output_type": "execute_result"
    },
    {
     "data": {
      "image/png": "[encoded data removed]",
      "text/plain": [
       "<Figure size 432x288 with 1 Axes>"
      ]
     },
     "metadata": {
      "needs_background": "light"
     },
     "output_type": "display_data"
    }
   ],
   "source": [
    "srn.scatterplot(data.PIB,data.VALOREMPENHO)"
   ]
  },
  {
   "cell_type": "code",
   "execution_count": 38,
   "id": "1b2e2dae-710c-4639-bfa6-5a2e2f5c3296",
   "metadata": {},
   "outputs": [
    {
     "data": {
      "text/plain": [
       "0      12240.76\n",
       "1      16575.82\n",
       "2      12037.61\n",
       "3      13674.54\n",
       "4      19912.38\n",
       "         ...   \n",
       "182    27170.89\n",
       "183    29654.02\n",
       "184    16876.33\n",
       "185    25938.38\n",
       "186    24363.31\n",
       "Name: PIB, Length: 187, dtype: float64"
      ]
     },
     "execution_count": 38,
     "metadata": {},
     "output_type": "execute_result"
    }
   ],
   "source": [
    "data.PIB"
   ]
  },
  {
   "cell_type": "code",
   "execution_count": 41,
   "id": "a3dfd186-7887-483e-9711-19f001e7a9b2",
   "metadata": {},
   "outputs": [
    {
     "data": {
      "text/plain": [
       "count      187.000000\n",
       "mean     18133.577594\n",
       "std       5851.712984\n",
       "min       8236.630000\n",
       "25%      13621.455000\n",
       "50%      17206.190000\n",
       "75%      21078.500000\n",
       "max      40671.530000\n",
       "Name: PIB, dtype: float64"
      ]
     },
     "execution_count": 41,
     "metadata": {},
     "output_type": "execute_result"
    }
   ],
   "source": [
    "data.loc[(data['PIB']> 50000) | (data['PIB']< 0), 'PIB']= mediana_PIB\n",
    "data.PIB.describe()"
   ]
  },
  {
   "cell_type": "code",
   "execution_count": 42,
   "id": "6d6370b6-1787-4507-9cfa-ee65b8839adc",
   "metadata": {},
   "outputs": [
    {
     "name": "stderr",
     "output_type": "stream",
     "text": [
      "C:\\ProgramData\\Anaconda3\\lib\\site-packages\\seaborn\\_decorators.py:36: FutureWarning: Pass the following variables as keyword args: x, y. From version 0.12, the only valid positional argument will be `data`, and passing other arguments without an explicit keyword will result in an error or misinterpretation.\n",
      "  warnings.warn(\n"
     ]
    },
    {
     "data": {
      "text/plain": [
       "<AxesSubplot:xlabel='PIB', ylabel='VALOREMPENHO'>"
      ]
     },
     "execution_count": 42,
     "metadata": {},
     "output_type": "execute_result"
    },
    {
     "data": {
      "image/png": "[encoded data removed]",
      "text/plain": [
       "<Figure size 432x288 with 1 Axes>"
      ]
     },
     "metadata": {
      "needs_background": "light"
     },
     "output_type": "display_data"
    }
   ],
   "source": [
    "srn.scatterplot(data.PIB,data.VALOREMPENHO)"
   ]
  },
  {
   "cell_type": "code",
   "execution_count": null,
   "id": "7dcf13d7-30fe-44a2-804d-327b56390017",
   "metadata": {},
   "outputs": [],
   "source": []
  },
  {
   "cell_type": "code",
   "execution_count": null,
   "id": "b9af73e6-a146-4fd2-af01-10c452a58310",
   "metadata": {},
   "outputs": [],
   "source": []
  }
 ],
 "metadata": {
  "kernelspec": {
   "display_name": "Python 3 (ipykernel)",
   "language": "python",
   "name": "python3"
  },
  "language_info": {
   "codemirror_mode": {
    "name": "ipython",
    "version": 3
   },
   "file_extension": ".py",
   "mimetype": "text/x-python",
   "name": "python",
   "nbconvert_exporter": "python",
   "pygments_lexer": "ipython3",
   "version": "3.9.12"
  }
 },
 "nbformat": 4,
 "nbformat_minor": 5
}
